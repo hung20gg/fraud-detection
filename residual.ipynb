{
 "cells": [
  {
   "cell_type": "code",
   "execution_count": null,
   "metadata": {},
   "outputs": [],
   "source": [
    "import torch\n",
    "import torch.nn as nn\n",
    "import pandas as pd\n",
    "\n",
    "from torch.utils.data import DataLoader, TensorDatase"
   ]
  },
  {
   "cell_type": "code",
   "execution_count": null,
   "metadata": {},
   "outputs": [],
   "source": [
    "device = 'cuda' if torch.cuda.is_available() else 'cpu'"
   ]
  },
  {
   "cell_type": "markdown",
   "metadata": {},
   "source": [
    "# Using residual connection for prediction"
   ]
  },
  {
   "cell_type": "markdown",
   "metadata": {},
   "source": [
    "## Prepare the dataset"
   ]
  },
  {
   "cell_type": "code",
   "execution_count": null,
   "metadata": {},
   "outputs": [],
   "source": [
    "train_dataset = pd.read_csv('data/train_dataset.csv')\n",
    "test_dataset = pd.read_csv('data/test_dataset.csv')\n",
    "\n",
    "data_columns = [\"V\"+str(i) for i in range(1,29)]+[\"Amount\"]\n",
    "label_column =\"Class\"\n",
    "\n",
    "X_train = train_dataset[data_columns]\n",
    "X_test  = test_dataset[data_columns]\n",
    "\n",
    "y_train = train_dataset[label_column]\n",
    "y_test  = test_dataset[label_column]"
   ]
  }
 ],
 "metadata": {
  "language_info": {
   "name": "python"
  }
 },
 "nbformat": 4,
 "nbformat_minor": 2
}
